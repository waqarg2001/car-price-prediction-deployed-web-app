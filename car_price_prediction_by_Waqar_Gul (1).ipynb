{
  "nbformat": 4,
  "nbformat_minor": 0,
  "metadata": {
    "colab": {
      "name": "car price prediction by Waqar Gul.ipynb",
      "provenance": [],
      "collapsed_sections": []
    },
    "kernelspec": {
      "name": "python3",
      "display_name": "Python 3"
    },
    "language_info": {
      "name": "python"
    }
  },
  "cells": [
    {
      "cell_type": "code",
      "metadata": {
        "id": "wuweTQboo_uO"
      },
      "source": [
        "import numpy as np\n",
        "import pandas as pd\n",
        "import matplotlib.pyplot as plt\n",
        "import tensorflow as tf\n",
        "from tensorflow.keras import layers,models\n",
        "from tensorflow.keras.utils import to_categorical\n",
        "from tensorflow.keras import regularizers\n",
        "from sklearn.utils import shuffle\n",
        "import seaborn as sns\n",
        "from keras.models import load_model\n",
        "cars_data=pd.read_csv('/content/CarPrice_Assignment.csv')\n",
        "\n",
        "\n",
        "\n",
        "\n",
        "  "
      ],
      "execution_count": 12,
      "outputs": []
    },
    {
      "cell_type": "code",
      "metadata": {
        "colab": {
          "base_uri": "https://localhost:8080/",
          "height": 275
        },
        "id": "jMf2PPrHAVdI",
        "outputId": "8e87869c-4c0b-49e1-bd95-b059ebc4ce61"
      },
      "source": [
        "cars_data.head()"
      ],
      "execution_count": 13,
      "outputs": [
        {
          "output_type": "execute_result",
          "data": {
            "text/html": [
              "<div>\n",
              "<style scoped>\n",
              "    .dataframe tbody tr th:only-of-type {\n",
              "        vertical-align: middle;\n",
              "    }\n",
              "\n",
              "    .dataframe tbody tr th {\n",
              "        vertical-align: top;\n",
              "    }\n",
              "\n",
              "    .dataframe thead th {\n",
              "        text-align: right;\n",
              "    }\n",
              "</style>\n",
              "<table border=\"1\" class=\"dataframe\">\n",
              "  <thead>\n",
              "    <tr style=\"text-align: right;\">\n",
              "      <th></th>\n",
              "      <th>car_ID</th>\n",
              "      <th>symboling</th>\n",
              "      <th>CarName</th>\n",
              "      <th>fueltype</th>\n",
              "      <th>aspiration</th>\n",
              "      <th>doornumber</th>\n",
              "      <th>carbody</th>\n",
              "      <th>drivewheel</th>\n",
              "      <th>enginelocation</th>\n",
              "      <th>wheelbase</th>\n",
              "      <th>carlength</th>\n",
              "      <th>carwidth</th>\n",
              "      <th>carheight</th>\n",
              "      <th>curbweight</th>\n",
              "      <th>enginetype</th>\n",
              "      <th>cylindernumber</th>\n",
              "      <th>enginesize</th>\n",
              "      <th>fuelsystem</th>\n",
              "      <th>boreratio</th>\n",
              "      <th>stroke</th>\n",
              "      <th>compressionratio</th>\n",
              "      <th>horsepower</th>\n",
              "      <th>peakrpm</th>\n",
              "      <th>citympg</th>\n",
              "      <th>highwaympg</th>\n",
              "      <th>price</th>\n",
              "    </tr>\n",
              "  </thead>\n",
              "  <tbody>\n",
              "    <tr>\n",
              "      <th>0</th>\n",
              "      <td>1</td>\n",
              "      <td>3</td>\n",
              "      <td>alfa-romero giulia</td>\n",
              "      <td>gas</td>\n",
              "      <td>std</td>\n",
              "      <td>two</td>\n",
              "      <td>convertible</td>\n",
              "      <td>rwd</td>\n",
              "      <td>front</td>\n",
              "      <td>88.6</td>\n",
              "      <td>168.8</td>\n",
              "      <td>64.1</td>\n",
              "      <td>48.8</td>\n",
              "      <td>2548</td>\n",
              "      <td>dohc</td>\n",
              "      <td>four</td>\n",
              "      <td>130</td>\n",
              "      <td>mpfi</td>\n",
              "      <td>3.47</td>\n",
              "      <td>2.68</td>\n",
              "      <td>9.0</td>\n",
              "      <td>111</td>\n",
              "      <td>5000</td>\n",
              "      <td>21</td>\n",
              "      <td>27</td>\n",
              "      <td>13495.0</td>\n",
              "    </tr>\n",
              "    <tr>\n",
              "      <th>1</th>\n",
              "      <td>2</td>\n",
              "      <td>3</td>\n",
              "      <td>alfa-romero stelvio</td>\n",
              "      <td>gas</td>\n",
              "      <td>std</td>\n",
              "      <td>two</td>\n",
              "      <td>convertible</td>\n",
              "      <td>rwd</td>\n",
              "      <td>front</td>\n",
              "      <td>88.6</td>\n",
              "      <td>168.8</td>\n",
              "      <td>64.1</td>\n",
              "      <td>48.8</td>\n",
              "      <td>2548</td>\n",
              "      <td>dohc</td>\n",
              "      <td>four</td>\n",
              "      <td>130</td>\n",
              "      <td>mpfi</td>\n",
              "      <td>3.47</td>\n",
              "      <td>2.68</td>\n",
              "      <td>9.0</td>\n",
              "      <td>111</td>\n",
              "      <td>5000</td>\n",
              "      <td>21</td>\n",
              "      <td>27</td>\n",
              "      <td>16500.0</td>\n",
              "    </tr>\n",
              "    <tr>\n",
              "      <th>2</th>\n",
              "      <td>3</td>\n",
              "      <td>1</td>\n",
              "      <td>alfa-romero Quadrifoglio</td>\n",
              "      <td>gas</td>\n",
              "      <td>std</td>\n",
              "      <td>two</td>\n",
              "      <td>hatchback</td>\n",
              "      <td>rwd</td>\n",
              "      <td>front</td>\n",
              "      <td>94.5</td>\n",
              "      <td>171.2</td>\n",
              "      <td>65.5</td>\n",
              "      <td>52.4</td>\n",
              "      <td>2823</td>\n",
              "      <td>ohcv</td>\n",
              "      <td>six</td>\n",
              "      <td>152</td>\n",
              "      <td>mpfi</td>\n",
              "      <td>2.68</td>\n",
              "      <td>3.47</td>\n",
              "      <td>9.0</td>\n",
              "      <td>154</td>\n",
              "      <td>5000</td>\n",
              "      <td>19</td>\n",
              "      <td>26</td>\n",
              "      <td>16500.0</td>\n",
              "    </tr>\n",
              "    <tr>\n",
              "      <th>3</th>\n",
              "      <td>4</td>\n",
              "      <td>2</td>\n",
              "      <td>audi 100 ls</td>\n",
              "      <td>gas</td>\n",
              "      <td>std</td>\n",
              "      <td>four</td>\n",
              "      <td>sedan</td>\n",
              "      <td>fwd</td>\n",
              "      <td>front</td>\n",
              "      <td>99.8</td>\n",
              "      <td>176.6</td>\n",
              "      <td>66.2</td>\n",
              "      <td>54.3</td>\n",
              "      <td>2337</td>\n",
              "      <td>ohc</td>\n",
              "      <td>four</td>\n",
              "      <td>109</td>\n",
              "      <td>mpfi</td>\n",
              "      <td>3.19</td>\n",
              "      <td>3.40</td>\n",
              "      <td>10.0</td>\n",
              "      <td>102</td>\n",
              "      <td>5500</td>\n",
              "      <td>24</td>\n",
              "      <td>30</td>\n",
              "      <td>13950.0</td>\n",
              "    </tr>\n",
              "    <tr>\n",
              "      <th>4</th>\n",
              "      <td>5</td>\n",
              "      <td>2</td>\n",
              "      <td>audi 100ls</td>\n",
              "      <td>gas</td>\n",
              "      <td>std</td>\n",
              "      <td>four</td>\n",
              "      <td>sedan</td>\n",
              "      <td>4wd</td>\n",
              "      <td>front</td>\n",
              "      <td>99.4</td>\n",
              "      <td>176.6</td>\n",
              "      <td>66.4</td>\n",
              "      <td>54.3</td>\n",
              "      <td>2824</td>\n",
              "      <td>ohc</td>\n",
              "      <td>five</td>\n",
              "      <td>136</td>\n",
              "      <td>mpfi</td>\n",
              "      <td>3.19</td>\n",
              "      <td>3.40</td>\n",
              "      <td>8.0</td>\n",
              "      <td>115</td>\n",
              "      <td>5500</td>\n",
              "      <td>18</td>\n",
              "      <td>22</td>\n",
              "      <td>17450.0</td>\n",
              "    </tr>\n",
              "  </tbody>\n",
              "</table>\n",
              "</div>"
            ],
            "text/plain": [
              "   car_ID  symboling                   CarName  ... citympg highwaympg    price\n",
              "0       1          3        alfa-romero giulia  ...      21         27  13495.0\n",
              "1       2          3       alfa-romero stelvio  ...      21         27  16500.0\n",
              "2       3          1  alfa-romero Quadrifoglio  ...      19         26  16500.0\n",
              "3       4          2               audi 100 ls  ...      24         30  13950.0\n",
              "4       5          2                audi 100ls  ...      18         22  17450.0\n",
              "\n",
              "[5 rows x 26 columns]"
            ]
          },
          "metadata": {
            "tags": []
          },
          "execution_count": 13
        }
      ]
    },
    {
      "cell_type": "code",
      "metadata": {
        "colab": {
          "base_uri": "https://localhost:8080/",
          "height": 317
        },
        "id": "xU0U71ZhArrP",
        "outputId": "83596f8a-d74a-433d-a6b8-8557c80511b2"
      },
      "source": [
        "cars_data.describe()"
      ],
      "execution_count": 14,
      "outputs": [
        {
          "output_type": "execute_result",
          "data": {
            "text/html": [
              "<div>\n",
              "<style scoped>\n",
              "    .dataframe tbody tr th:only-of-type {\n",
              "        vertical-align: middle;\n",
              "    }\n",
              "\n",
              "    .dataframe tbody tr th {\n",
              "        vertical-align: top;\n",
              "    }\n",
              "\n",
              "    .dataframe thead th {\n",
              "        text-align: right;\n",
              "    }\n",
              "</style>\n",
              "<table border=\"1\" class=\"dataframe\">\n",
              "  <thead>\n",
              "    <tr style=\"text-align: right;\">\n",
              "      <th></th>\n",
              "      <th>car_ID</th>\n",
              "      <th>symboling</th>\n",
              "      <th>wheelbase</th>\n",
              "      <th>carlength</th>\n",
              "      <th>carwidth</th>\n",
              "      <th>carheight</th>\n",
              "      <th>curbweight</th>\n",
              "      <th>enginesize</th>\n",
              "      <th>boreratio</th>\n",
              "      <th>stroke</th>\n",
              "      <th>compressionratio</th>\n",
              "      <th>horsepower</th>\n",
              "      <th>peakrpm</th>\n",
              "      <th>citympg</th>\n",
              "      <th>highwaympg</th>\n",
              "      <th>price</th>\n",
              "    </tr>\n",
              "  </thead>\n",
              "  <tbody>\n",
              "    <tr>\n",
              "      <th>count</th>\n",
              "      <td>205.000000</td>\n",
              "      <td>205.000000</td>\n",
              "      <td>205.000000</td>\n",
              "      <td>205.000000</td>\n",
              "      <td>205.000000</td>\n",
              "      <td>205.000000</td>\n",
              "      <td>205.000000</td>\n",
              "      <td>205.000000</td>\n",
              "      <td>205.000000</td>\n",
              "      <td>205.000000</td>\n",
              "      <td>205.000000</td>\n",
              "      <td>205.000000</td>\n",
              "      <td>205.000000</td>\n",
              "      <td>205.000000</td>\n",
              "      <td>205.000000</td>\n",
              "      <td>205.000000</td>\n",
              "    </tr>\n",
              "    <tr>\n",
              "      <th>mean</th>\n",
              "      <td>103.000000</td>\n",
              "      <td>0.834146</td>\n",
              "      <td>98.756585</td>\n",
              "      <td>174.049268</td>\n",
              "      <td>65.907805</td>\n",
              "      <td>53.724878</td>\n",
              "      <td>2555.565854</td>\n",
              "      <td>126.907317</td>\n",
              "      <td>3.329756</td>\n",
              "      <td>3.255415</td>\n",
              "      <td>10.142537</td>\n",
              "      <td>104.117073</td>\n",
              "      <td>5125.121951</td>\n",
              "      <td>25.219512</td>\n",
              "      <td>30.751220</td>\n",
              "      <td>13276.710571</td>\n",
              "    </tr>\n",
              "    <tr>\n",
              "      <th>std</th>\n",
              "      <td>59.322565</td>\n",
              "      <td>1.245307</td>\n",
              "      <td>6.021776</td>\n",
              "      <td>12.337289</td>\n",
              "      <td>2.145204</td>\n",
              "      <td>2.443522</td>\n",
              "      <td>520.680204</td>\n",
              "      <td>41.642693</td>\n",
              "      <td>0.270844</td>\n",
              "      <td>0.313597</td>\n",
              "      <td>3.972040</td>\n",
              "      <td>39.544167</td>\n",
              "      <td>476.985643</td>\n",
              "      <td>6.542142</td>\n",
              "      <td>6.886443</td>\n",
              "      <td>7988.852332</td>\n",
              "    </tr>\n",
              "    <tr>\n",
              "      <th>min</th>\n",
              "      <td>1.000000</td>\n",
              "      <td>-2.000000</td>\n",
              "      <td>86.600000</td>\n",
              "      <td>141.100000</td>\n",
              "      <td>60.300000</td>\n",
              "      <td>47.800000</td>\n",
              "      <td>1488.000000</td>\n",
              "      <td>61.000000</td>\n",
              "      <td>2.540000</td>\n",
              "      <td>2.070000</td>\n",
              "      <td>7.000000</td>\n",
              "      <td>48.000000</td>\n",
              "      <td>4150.000000</td>\n",
              "      <td>13.000000</td>\n",
              "      <td>16.000000</td>\n",
              "      <td>5118.000000</td>\n",
              "    </tr>\n",
              "    <tr>\n",
              "      <th>25%</th>\n",
              "      <td>52.000000</td>\n",
              "      <td>0.000000</td>\n",
              "      <td>94.500000</td>\n",
              "      <td>166.300000</td>\n",
              "      <td>64.100000</td>\n",
              "      <td>52.000000</td>\n",
              "      <td>2145.000000</td>\n",
              "      <td>97.000000</td>\n",
              "      <td>3.150000</td>\n",
              "      <td>3.110000</td>\n",
              "      <td>8.600000</td>\n",
              "      <td>70.000000</td>\n",
              "      <td>4800.000000</td>\n",
              "      <td>19.000000</td>\n",
              "      <td>25.000000</td>\n",
              "      <td>7788.000000</td>\n",
              "    </tr>\n",
              "    <tr>\n",
              "      <th>50%</th>\n",
              "      <td>103.000000</td>\n",
              "      <td>1.000000</td>\n",
              "      <td>97.000000</td>\n",
              "      <td>173.200000</td>\n",
              "      <td>65.500000</td>\n",
              "      <td>54.100000</td>\n",
              "      <td>2414.000000</td>\n",
              "      <td>120.000000</td>\n",
              "      <td>3.310000</td>\n",
              "      <td>3.290000</td>\n",
              "      <td>9.000000</td>\n",
              "      <td>95.000000</td>\n",
              "      <td>5200.000000</td>\n",
              "      <td>24.000000</td>\n",
              "      <td>30.000000</td>\n",
              "      <td>10295.000000</td>\n",
              "    </tr>\n",
              "    <tr>\n",
              "      <th>75%</th>\n",
              "      <td>154.000000</td>\n",
              "      <td>2.000000</td>\n",
              "      <td>102.400000</td>\n",
              "      <td>183.100000</td>\n",
              "      <td>66.900000</td>\n",
              "      <td>55.500000</td>\n",
              "      <td>2935.000000</td>\n",
              "      <td>141.000000</td>\n",
              "      <td>3.580000</td>\n",
              "      <td>3.410000</td>\n",
              "      <td>9.400000</td>\n",
              "      <td>116.000000</td>\n",
              "      <td>5500.000000</td>\n",
              "      <td>30.000000</td>\n",
              "      <td>34.000000</td>\n",
              "      <td>16503.000000</td>\n",
              "    </tr>\n",
              "    <tr>\n",
              "      <th>max</th>\n",
              "      <td>205.000000</td>\n",
              "      <td>3.000000</td>\n",
              "      <td>120.900000</td>\n",
              "      <td>208.100000</td>\n",
              "      <td>72.300000</td>\n",
              "      <td>59.800000</td>\n",
              "      <td>4066.000000</td>\n",
              "      <td>326.000000</td>\n",
              "      <td>3.940000</td>\n",
              "      <td>4.170000</td>\n",
              "      <td>23.000000</td>\n",
              "      <td>288.000000</td>\n",
              "      <td>6600.000000</td>\n",
              "      <td>49.000000</td>\n",
              "      <td>54.000000</td>\n",
              "      <td>45400.000000</td>\n",
              "    </tr>\n",
              "  </tbody>\n",
              "</table>\n",
              "</div>"
            ],
            "text/plain": [
              "           car_ID   symboling   wheelbase  ...     citympg  highwaympg         price\n",
              "count  205.000000  205.000000  205.000000  ...  205.000000  205.000000    205.000000\n",
              "mean   103.000000    0.834146   98.756585  ...   25.219512   30.751220  13276.710571\n",
              "std     59.322565    1.245307    6.021776  ...    6.542142    6.886443   7988.852332\n",
              "min      1.000000   -2.000000   86.600000  ...   13.000000   16.000000   5118.000000\n",
              "25%     52.000000    0.000000   94.500000  ...   19.000000   25.000000   7788.000000\n",
              "50%    103.000000    1.000000   97.000000  ...   24.000000   30.000000  10295.000000\n",
              "75%    154.000000    2.000000  102.400000  ...   30.000000   34.000000  16503.000000\n",
              "max    205.000000    3.000000  120.900000  ...   49.000000   54.000000  45400.000000\n",
              "\n",
              "[8 rows x 16 columns]"
            ]
          },
          "metadata": {
            "tags": []
          },
          "execution_count": 14
        }
      ]
    },
    {
      "cell_type": "code",
      "metadata": {
        "colab": {
          "base_uri": "https://localhost:8080/"
        },
        "id": "8gnEuiwHAuWB",
        "outputId": "8ed647a9-9b02-4221-aecf-285790fd9dd9"
      },
      "source": [
        "cars_data.info()"
      ],
      "execution_count": 15,
      "outputs": [
        {
          "output_type": "stream",
          "text": [
            "<class 'pandas.core.frame.DataFrame'>\n",
            "RangeIndex: 205 entries, 0 to 204\n",
            "Data columns (total 26 columns):\n",
            " #   Column            Non-Null Count  Dtype  \n",
            "---  ------            --------------  -----  \n",
            " 0   car_ID            205 non-null    int64  \n",
            " 1   symboling         205 non-null    int64  \n",
            " 2   CarName           205 non-null    object \n",
            " 3   fueltype          205 non-null    object \n",
            " 4   aspiration        205 non-null    object \n",
            " 5   doornumber        205 non-null    object \n",
            " 6   carbody           205 non-null    object \n",
            " 7   drivewheel        205 non-null    object \n",
            " 8   enginelocation    205 non-null    object \n",
            " 9   wheelbase         205 non-null    float64\n",
            " 10  carlength         205 non-null    float64\n",
            " 11  carwidth          205 non-null    float64\n",
            " 12  carheight         205 non-null    float64\n",
            " 13  curbweight        205 non-null    int64  \n",
            " 14  enginetype        205 non-null    object \n",
            " 15  cylindernumber    205 non-null    object \n",
            " 16  enginesize        205 non-null    int64  \n",
            " 17  fuelsystem        205 non-null    object \n",
            " 18  boreratio         205 non-null    float64\n",
            " 19  stroke            205 non-null    float64\n",
            " 20  compressionratio  205 non-null    float64\n",
            " 21  horsepower        205 non-null    int64  \n",
            " 22  peakrpm           205 non-null    int64  \n",
            " 23  citympg           205 non-null    int64  \n",
            " 24  highwaympg        205 non-null    int64  \n",
            " 25  price             205 non-null    float64\n",
            "dtypes: float64(8), int64(8), object(10)\n",
            "memory usage: 41.8+ KB\n"
          ],
          "name": "stdout"
        }
      ]
    },
    {
      "cell_type": "code",
      "metadata": {
        "id": "CzlJFPXHt38z"
      },
      "source": [
        "#cars_data=shuffle(cars_data)\n",
        "cars_data=cars_data.drop('CarName',axis=1)\n",
        "cars_data=cars_data.drop('car_ID',axis=1)"
      ],
      "execution_count": 16,
      "outputs": []
    },
    {
      "cell_type": "code",
      "metadata": {
        "colab": {
          "base_uri": "https://localhost:8080/",
          "height": 960
        },
        "id": "H8C8ngXilHi_",
        "outputId": "82dacd1b-178c-45d7-a993-0310d644b8f1"
      },
      "source": [
        "plt.figure(figsize=(12,15))\n",
        "sns.heatmap(cars_data.corr(),annot=True)"
      ],
      "execution_count": 17,
      "outputs": [
        {
          "output_type": "execute_result",
          "data": {
            "text/plain": [
              "<matplotlib.axes._subplots.AxesSubplot at 0x7f3ec03c1e90>"
            ]
          },
          "metadata": {
            "tags": []
          },
          "execution_count": 17
        },
        {
          "output_type": "display_data",
          "data": {
            "image/png": "[encoded data removed]",
            "text/plain": [
              "<Figure size 864x1080 with 2 Axes>"
            ]
          },
          "metadata": {
            "tags": [],
            "needs_background": "light"
          }
        }
      ]
    },
    {
      "cell_type": "code",
      "metadata": {
        "id": "uXkYQ_s41mdc"
      },
      "source": [
        "cars_data.drop(['enginetype','cylindernumber','fueltype','aspiration','doornumber','carbody','symboling','stroke','compressionratio','peakrpm','wheelbase','carheight','boreratio'],axis=1,inplace=True)"
      ],
      "execution_count": 18,
      "outputs": []
    },
    {
      "cell_type": "code",
      "metadata": {
        "id": "DSoiPyhZs4zW",
        "colab": {
          "base_uri": "https://localhost:8080/",
          "height": 204
        },
        "outputId": "00abb6cc-05dd-4ad9-f36b-88002326504c"
      },
      "source": [
        "from sklearn.preprocessing import LabelEncoder\n",
        "cols=['drivewheel','enginelocation','fuelsystem']\n",
        "labelencoder = LabelEncoder()\n",
        "for col in cols:\n",
        "  cars_data[col]=labelencoder.fit_transform(cars_data[col])\n",
        "cars_data.head()  \n",
        "\n"
      ],
      "execution_count": 19,
      "outputs": [
        {
          "output_type": "execute_result",
          "data": {
            "text/html": [
              "<div>\n",
              "<style scoped>\n",
              "    .dataframe tbody tr th:only-of-type {\n",
              "        vertical-align: middle;\n",
              "    }\n",
              "\n",
              "    .dataframe tbody tr th {\n",
              "        vertical-align: top;\n",
              "    }\n",
              "\n",
              "    .dataframe thead th {\n",
              "        text-align: right;\n",
              "    }\n",
              "</style>\n",
              "<table border=\"1\" class=\"dataframe\">\n",
              "  <thead>\n",
              "    <tr style=\"text-align: right;\">\n",
              "      <th></th>\n",
              "      <th>drivewheel</th>\n",
              "      <th>enginelocation</th>\n",
              "      <th>carlength</th>\n",
              "      <th>carwidth</th>\n",
              "      <th>curbweight</th>\n",
              "      <th>enginesize</th>\n",
              "      <th>fuelsystem</th>\n",
              "      <th>horsepower</th>\n",
              "      <th>citympg</th>\n",
              "      <th>highwaympg</th>\n",
              "      <th>price</th>\n",
              "    </tr>\n",
              "  </thead>\n",
              "  <tbody>\n",
              "    <tr>\n",
              "      <th>0</th>\n",
              "      <td>2</td>\n",
              "      <td>0</td>\n",
              "      <td>168.8</td>\n",
              "      <td>64.1</td>\n",
              "      <td>2548</td>\n",
              "      <td>130</td>\n",
              "      <td>5</td>\n",
              "      <td>111</td>\n",
              "      <td>21</td>\n",
              "      <td>27</td>\n",
              "      <td>13495.0</td>\n",
              "    </tr>\n",
              "    <tr>\n",
              "      <th>1</th>\n",
              "      <td>2</td>\n",
              "      <td>0</td>\n",
              "      <td>168.8</td>\n",
              "      <td>64.1</td>\n",
              "      <td>2548</td>\n",
              "      <td>130</td>\n",
              "      <td>5</td>\n",
              "      <td>111</td>\n",
              "      <td>21</td>\n",
              "      <td>27</td>\n",
              "      <td>16500.0</td>\n",
              "    </tr>\n",
              "    <tr>\n",
              "      <th>2</th>\n",
              "      <td>2</td>\n",
              "      <td>0</td>\n",
              "      <td>171.2</td>\n",
              "      <td>65.5</td>\n",
              "      <td>2823</td>\n",
              "      <td>152</td>\n",
              "      <td>5</td>\n",
              "      <td>154</td>\n",
              "      <td>19</td>\n",
              "      <td>26</td>\n",
              "      <td>16500.0</td>\n",
              "    </tr>\n",
              "    <tr>\n",
              "      <th>3</th>\n",
              "      <td>1</td>\n",
              "      <td>0</td>\n",
              "      <td>176.6</td>\n",
              "      <td>66.2</td>\n",
              "      <td>2337</td>\n",
              "      <td>109</td>\n",
              "      <td>5</td>\n",
              "      <td>102</td>\n",
              "      <td>24</td>\n",
              "      <td>30</td>\n",
              "      <td>13950.0</td>\n",
              "    </tr>\n",
              "    <tr>\n",
              "      <th>4</th>\n",
              "      <td>0</td>\n",
              "      <td>0</td>\n",
              "      <td>176.6</td>\n",
              "      <td>66.4</td>\n",
              "      <td>2824</td>\n",
              "      <td>136</td>\n",
              "      <td>5</td>\n",
              "      <td>115</td>\n",
              "      <td>18</td>\n",
              "      <td>22</td>\n",
              "      <td>17450.0</td>\n",
              "    </tr>\n",
              "  </tbody>\n",
              "</table>\n",
              "</div>"
            ],
            "text/plain": [
              "   drivewheel  enginelocation  carlength  ...  citympg  highwaympg    price\n",
              "0           2               0      168.8  ...       21          27  13495.0\n",
              "1           2               0      168.8  ...       21          27  16500.0\n",
              "2           2               0      171.2  ...       19          26  16500.0\n",
              "3           1               0      176.6  ...       24          30  13950.0\n",
              "4           0               0      176.6  ...       18          22  17450.0\n",
              "\n",
              "[5 rows x 11 columns]"
            ]
          },
          "metadata": {
            "tags": []
          },
          "execution_count": 19
        }
      ]
    },
    {
      "cell_type": "code",
      "metadata": {
        "colab": {
          "base_uri": "https://localhost:8080/",
          "height": 948
        },
        "id": "UdNHpQbQ0Biy",
        "outputId": "417057f9-3821-43fd-aee6-1387c7702539"
      },
      "source": [
        "plt.figure(figsize=(12,15))\n",
        "sns.heatmap(cars_data.corr(),annot=True)"
      ],
      "execution_count": 20,
      "outputs": [
        {
          "output_type": "execute_result",
          "data": {
            "text/plain": [
              "<matplotlib.axes._subplots.AxesSubplot at 0x7f3eb73d7e50>"
            ]
          },
          "metadata": {
            "tags": []
          },
          "execution_count": 20
        },
        {
          "output_type": "display_data",
          "data": {
            "image/png": "[encoded data removed]",
            "text/plain": [
              "<Figure size 864x1080 with 2 Axes>"
            ]
          },
          "metadata": {
            "tags": [],
            "needs_background": "light"
          }
        }
      ]
    },
    {
      "cell_type": "code",
      "metadata": {
        "colab": {
          "base_uri": "https://localhost:8080/"
        },
        "id": "DVX9CHTNgw8v",
        "outputId": "5ef2ea31-07c3-4c62-8cf6-fc1040c75b59"
      },
      "source": [
        "cars_data.shape"
      ],
      "execution_count": 21,
      "outputs": [
        {
          "output_type": "execute_result",
          "data": {
            "text/plain": [
              "(205, 11)"
            ]
          },
          "metadata": {
            "tags": []
          },
          "execution_count": 21
        }
      ]
    },
    {
      "cell_type": "code",
      "metadata": {
        "colab": {
          "base_uri": "https://localhost:8080/"
        },
        "id": "0xJRhjqck0cy",
        "outputId": "14d15942-04bd-48b0-f05d-69ec1d9b226f"
      },
      "source": [
        "train_data=cars_data.iloc[:103]\n",
        "train_targets=cars_data.price.iloc[:103]\n",
        "train_targets=np.asarray(train_targets)\n",
        "train_data.drop('price',axis=1,inplace=True)\n",
        "\n",
        "\n",
        "print(train_data.shape)\n",
        "\n",
        "test_data=cars_data.iloc[103:166]\n",
        "test_targets=cars_data.price.iloc[103:166]\n",
        "test_targets=np.asarray(test_targets)\n",
        "test_data.drop('price',axis=1,inplace=True)\n",
        "\n",
        "\n",
        "print(test_data.shape)"
      ],
      "execution_count": 22,
      "outputs": [
        {
          "output_type": "stream",
          "text": [
            "(103, 10)\n",
            "(63, 10)\n"
          ],
          "name": "stdout"
        },
        {
          "output_type": "stream",
          "text": [
            "/usr/local/lib/python3.7/dist-packages/pandas/core/frame.py:4174: SettingWithCopyWarning: \n",
            "A value is trying to be set on a copy of a slice from a DataFrame\n",
            "\n",
            "See the caveats in the documentation: https://pandas.pydata.org/pandas-docs/stable/user_guide/indexing.html#returning-a-view-versus-a-copy\n",
            "  errors=errors,\n"
          ],
          "name": "stderr"
        }
      ]
    },
    {
      "cell_type": "code",
      "metadata": {
        "colab": {
          "base_uri": "https://localhost:8080/",
          "height": 419
        },
        "id": "zFzbHT8W1ByL",
        "outputId": "a70ee7f1-e868-490a-f614-20770993c0fd"
      },
      "source": [
        "test_data"
      ],
      "execution_count": 23,
      "outputs": [
        {
          "output_type": "execute_result",
          "data": {
            "text/html": [
              "<div>\n",
              "<style scoped>\n",
              "    .dataframe tbody tr th:only-of-type {\n",
              "        vertical-align: middle;\n",
              "    }\n",
              "\n",
              "    .dataframe tbody tr th {\n",
              "        vertical-align: top;\n",
              "    }\n",
              "\n",
              "    .dataframe thead th {\n",
              "        text-align: right;\n",
              "    }\n",
              "</style>\n",
              "<table border=\"1\" class=\"dataframe\">\n",
              "  <thead>\n",
              "    <tr style=\"text-align: right;\">\n",
              "      <th></th>\n",
              "      <th>drivewheel</th>\n",
              "      <th>enginelocation</th>\n",
              "      <th>carlength</th>\n",
              "      <th>carwidth</th>\n",
              "      <th>curbweight</th>\n",
              "      <th>enginesize</th>\n",
              "      <th>fuelsystem</th>\n",
              "      <th>horsepower</th>\n",
              "      <th>citympg</th>\n",
              "      <th>highwaympg</th>\n",
              "    </tr>\n",
              "  </thead>\n",
              "  <tbody>\n",
              "    <tr>\n",
              "      <th>103</th>\n",
              "      <td>1</td>\n",
              "      <td>0</td>\n",
              "      <td>184.6</td>\n",
              "      <td>66.5</td>\n",
              "      <td>3060</td>\n",
              "      <td>181</td>\n",
              "      <td>5</td>\n",
              "      <td>152</td>\n",
              "      <td>19</td>\n",
              "      <td>25</td>\n",
              "    </tr>\n",
              "    <tr>\n",
              "      <th>104</th>\n",
              "      <td>2</td>\n",
              "      <td>0</td>\n",
              "      <td>170.7</td>\n",
              "      <td>67.9</td>\n",
              "      <td>3071</td>\n",
              "      <td>181</td>\n",
              "      <td>5</td>\n",
              "      <td>160</td>\n",
              "      <td>19</td>\n",
              "      <td>25</td>\n",
              "    </tr>\n",
              "    <tr>\n",
              "      <th>105</th>\n",
              "      <td>2</td>\n",
              "      <td>0</td>\n",
              "      <td>170.7</td>\n",
              "      <td>67.9</td>\n",
              "      <td>3139</td>\n",
              "      <td>181</td>\n",
              "      <td>5</td>\n",
              "      <td>200</td>\n",
              "      <td>17</td>\n",
              "      <td>23</td>\n",
              "    </tr>\n",
              "    <tr>\n",
              "      <th>106</th>\n",
              "      <td>2</td>\n",
              "      <td>0</td>\n",
              "      <td>178.5</td>\n",
              "      <td>67.9</td>\n",
              "      <td>3139</td>\n",
              "      <td>181</td>\n",
              "      <td>5</td>\n",
              "      <td>160</td>\n",
              "      <td>19</td>\n",
              "      <td>25</td>\n",
              "    </tr>\n",
              "    <tr>\n",
              "      <th>107</th>\n",
              "      <td>2</td>\n",
              "      <td>0</td>\n",
              "      <td>186.7</td>\n",
              "      <td>68.4</td>\n",
              "      <td>3020</td>\n",
              "      <td>120</td>\n",
              "      <td>5</td>\n",
              "      <td>97</td>\n",
              "      <td>19</td>\n",
              "      <td>24</td>\n",
              "    </tr>\n",
              "    <tr>\n",
              "      <th>...</th>\n",
              "      <td>...</td>\n",
              "      <td>...</td>\n",
              "      <td>...</td>\n",
              "      <td>...</td>\n",
              "      <td>...</td>\n",
              "      <td>...</td>\n",
              "      <td>...</td>\n",
              "      <td>...</td>\n",
              "      <td>...</td>\n",
              "      <td>...</td>\n",
              "    </tr>\n",
              "    <tr>\n",
              "      <th>161</th>\n",
              "      <td>1</td>\n",
              "      <td>0</td>\n",
              "      <td>166.3</td>\n",
              "      <td>64.4</td>\n",
              "      <td>2122</td>\n",
              "      <td>98</td>\n",
              "      <td>1</td>\n",
              "      <td>70</td>\n",
              "      <td>28</td>\n",
              "      <td>34</td>\n",
              "    </tr>\n",
              "    <tr>\n",
              "      <th>162</th>\n",
              "      <td>1</td>\n",
              "      <td>0</td>\n",
              "      <td>166.3</td>\n",
              "      <td>64.4</td>\n",
              "      <td>2140</td>\n",
              "      <td>98</td>\n",
              "      <td>1</td>\n",
              "      <td>70</td>\n",
              "      <td>28</td>\n",
              "      <td>34</td>\n",
              "    </tr>\n",
              "    <tr>\n",
              "      <th>163</th>\n",
              "      <td>2</td>\n",
              "      <td>0</td>\n",
              "      <td>168.7</td>\n",
              "      <td>64.0</td>\n",
              "      <td>2169</td>\n",
              "      <td>98</td>\n",
              "      <td>1</td>\n",
              "      <td>70</td>\n",
              "      <td>29</td>\n",
              "      <td>34</td>\n",
              "    </tr>\n",
              "    <tr>\n",
              "      <th>164</th>\n",
              "      <td>2</td>\n",
              "      <td>0</td>\n",
              "      <td>168.7</td>\n",
              "      <td>64.0</td>\n",
              "      <td>2204</td>\n",
              "      <td>98</td>\n",
              "      <td>1</td>\n",
              "      <td>70</td>\n",
              "      <td>29</td>\n",
              "      <td>34</td>\n",
              "    </tr>\n",
              "    <tr>\n",
              "      <th>165</th>\n",
              "      <td>2</td>\n",
              "      <td>0</td>\n",
              "      <td>168.7</td>\n",
              "      <td>64.0</td>\n",
              "      <td>2265</td>\n",
              "      <td>98</td>\n",
              "      <td>5</td>\n",
              "      <td>112</td>\n",
              "      <td>26</td>\n",
              "      <td>29</td>\n",
              "    </tr>\n",
              "  </tbody>\n",
              "</table>\n",
              "<p>63 rows × 10 columns</p>\n",
              "</div>"
            ],
            "text/plain": [
              "     drivewheel  enginelocation  carlength  ...  horsepower  citympg  highwaympg\n",
              "103           1               0      184.6  ...         152       19          25\n",
              "104           2               0      170.7  ...         160       19          25\n",
              "105           2               0      170.7  ...         200       17          23\n",
              "106           2               0      178.5  ...         160       19          25\n",
              "107           2               0      186.7  ...          97       19          24\n",
              "..          ...             ...        ...  ...         ...      ...         ...\n",
              "161           1               0      166.3  ...          70       28          34\n",
              "162           1               0      166.3  ...          70       28          34\n",
              "163           2               0      168.7  ...          70       29          34\n",
              "164           2               0      168.7  ...          70       29          34\n",
              "165           2               0      168.7  ...         112       26          29\n",
              "\n",
              "[63 rows x 10 columns]"
            ]
          },
          "metadata": {
            "tags": []
          },
          "execution_count": 23
        }
      ]
    },
    {
      "cell_type": "code",
      "metadata": {
        "id": "78_zMSuSGcqT",
        "colab": {
          "base_uri": "https://localhost:8080/"
        },
        "outputId": "31a7c9ca-ca49-41b0-fd60-d16888675c64"
      },
      "source": [
        "\n",
        "val_data=cars_data.iloc[166:]\n",
        "val_data.drop('price',axis=1,inplace=True)\n",
        "\n",
        "val_targets=cars_data.price.iloc[166:]\n",
        "val_targets=np.asarray(val_targets)\n",
        "\n"
      ],
      "execution_count": 24,
      "outputs": [
        {
          "output_type": "stream",
          "text": [
            "/usr/local/lib/python3.7/dist-packages/pandas/core/frame.py:4174: SettingWithCopyWarning: \n",
            "A value is trying to be set on a copy of a slice from a DataFrame\n",
            "\n",
            "See the caveats in the documentation: https://pandas.pydata.org/pandas-docs/stable/user_guide/indexing.html#returning-a-view-versus-a-copy\n",
            "  errors=errors,\n"
          ],
          "name": "stderr"
        }
      ]
    },
    {
      "cell_type": "code",
      "metadata": {
        "colab": {
          "base_uri": "https://localhost:8080/",
          "height": 204
        },
        "id": "U32STGiuKNzt",
        "outputId": "0985d6b5-846e-4883-ce80-63831ce43d18"
      },
      "source": [
        "val_data.head()"
      ],
      "execution_count": 25,
      "outputs": [
        {
          "output_type": "execute_result",
          "data": {
            "text/html": [
              "<div>\n",
              "<style scoped>\n",
              "    .dataframe tbody tr th:only-of-type {\n",
              "        vertical-align: middle;\n",
              "    }\n",
              "\n",
              "    .dataframe tbody tr th {\n",
              "        vertical-align: top;\n",
              "    }\n",
              "\n",
              "    .dataframe thead th {\n",
              "        text-align: right;\n",
              "    }\n",
              "</style>\n",
              "<table border=\"1\" class=\"dataframe\">\n",
              "  <thead>\n",
              "    <tr style=\"text-align: right;\">\n",
              "      <th></th>\n",
              "      <th>drivewheel</th>\n",
              "      <th>enginelocation</th>\n",
              "      <th>carlength</th>\n",
              "      <th>carwidth</th>\n",
              "      <th>curbweight</th>\n",
              "      <th>enginesize</th>\n",
              "      <th>fuelsystem</th>\n",
              "      <th>horsepower</th>\n",
              "      <th>citympg</th>\n",
              "      <th>highwaympg</th>\n",
              "    </tr>\n",
              "  </thead>\n",
              "  <tbody>\n",
              "    <tr>\n",
              "      <th>166</th>\n",
              "      <td>2</td>\n",
              "      <td>0</td>\n",
              "      <td>168.7</td>\n",
              "      <td>64.0</td>\n",
              "      <td>2300</td>\n",
              "      <td>98</td>\n",
              "      <td>5</td>\n",
              "      <td>112</td>\n",
              "      <td>26</td>\n",
              "      <td>29</td>\n",
              "    </tr>\n",
              "    <tr>\n",
              "      <th>167</th>\n",
              "      <td>2</td>\n",
              "      <td>0</td>\n",
              "      <td>176.2</td>\n",
              "      <td>65.6</td>\n",
              "      <td>2540</td>\n",
              "      <td>146</td>\n",
              "      <td>5</td>\n",
              "      <td>116</td>\n",
              "      <td>24</td>\n",
              "      <td>30</td>\n",
              "    </tr>\n",
              "    <tr>\n",
              "      <th>168</th>\n",
              "      <td>2</td>\n",
              "      <td>0</td>\n",
              "      <td>176.2</td>\n",
              "      <td>65.6</td>\n",
              "      <td>2536</td>\n",
              "      <td>146</td>\n",
              "      <td>5</td>\n",
              "      <td>116</td>\n",
              "      <td>24</td>\n",
              "      <td>30</td>\n",
              "    </tr>\n",
              "    <tr>\n",
              "      <th>169</th>\n",
              "      <td>2</td>\n",
              "      <td>0</td>\n",
              "      <td>176.2</td>\n",
              "      <td>65.6</td>\n",
              "      <td>2551</td>\n",
              "      <td>146</td>\n",
              "      <td>5</td>\n",
              "      <td>116</td>\n",
              "      <td>24</td>\n",
              "      <td>30</td>\n",
              "    </tr>\n",
              "    <tr>\n",
              "      <th>170</th>\n",
              "      <td>2</td>\n",
              "      <td>0</td>\n",
              "      <td>176.2</td>\n",
              "      <td>65.6</td>\n",
              "      <td>2679</td>\n",
              "      <td>146</td>\n",
              "      <td>5</td>\n",
              "      <td>116</td>\n",
              "      <td>24</td>\n",
              "      <td>30</td>\n",
              "    </tr>\n",
              "  </tbody>\n",
              "</table>\n",
              "</div>"
            ],
            "text/plain": [
              "     drivewheel  enginelocation  carlength  ...  horsepower  citympg  highwaympg\n",
              "166           2               0      168.7  ...         112       26          29\n",
              "167           2               0      176.2  ...         116       24          30\n",
              "168           2               0      176.2  ...         116       24          30\n",
              "169           2               0      176.2  ...         116       24          30\n",
              "170           2               0      176.2  ...         116       24          30\n",
              "\n",
              "[5 rows x 10 columns]"
            ]
          },
          "metadata": {
            "tags": []
          },
          "execution_count": 25
        }
      ]
    },
    {
      "cell_type": "code",
      "metadata": {
        "colab": {
          "base_uri": "https://localhost:8080/",
          "height": 204
        },
        "id": "lQcDEfaIJnNm",
        "outputId": "62bf7430-6c50-41e3-e182-7ef34fa112a9"
      },
      "source": [
        "train_data.head()"
      ],
      "execution_count": 26,
      "outputs": [
        {
          "output_type": "execute_result",
          "data": {
            "text/html": [
              "<div>\n",
              "<style scoped>\n",
              "    .dataframe tbody tr th:only-of-type {\n",
              "        vertical-align: middle;\n",
              "    }\n",
              "\n",
              "    .dataframe tbody tr th {\n",
              "        vertical-align: top;\n",
              "    }\n",
              "\n",
              "    .dataframe thead th {\n",
              "        text-align: right;\n",
              "    }\n",
              "</style>\n",
              "<table border=\"1\" class=\"dataframe\">\n",
              "  <thead>\n",
              "    <tr style=\"text-align: right;\">\n",
              "      <th></th>\n",
              "      <th>drivewheel</th>\n",
              "      <th>enginelocation</th>\n",
              "      <th>carlength</th>\n",
              "      <th>carwidth</th>\n",
              "      <th>curbweight</th>\n",
              "      <th>enginesize</th>\n",
              "      <th>fuelsystem</th>\n",
              "      <th>horsepower</th>\n",
              "      <th>citympg</th>\n",
              "      <th>highwaympg</th>\n",
              "    </tr>\n",
              "  </thead>\n",
              "  <tbody>\n",
              "    <tr>\n",
              "      <th>0</th>\n",
              "      <td>2</td>\n",
              "      <td>0</td>\n",
              "      <td>168.8</td>\n",
              "      <td>64.1</td>\n",
              "      <td>2548</td>\n",
              "      <td>130</td>\n",
              "      <td>5</td>\n",
              "      <td>111</td>\n",
              "      <td>21</td>\n",
              "      <td>27</td>\n",
              "    </tr>\n",
              "    <tr>\n",
              "      <th>1</th>\n",
              "      <td>2</td>\n",
              "      <td>0</td>\n",
              "      <td>168.8</td>\n",
              "      <td>64.1</td>\n",
              "      <td>2548</td>\n",
              "      <td>130</td>\n",
              "      <td>5</td>\n",
              "      <td>111</td>\n",
              "      <td>21</td>\n",
              "      <td>27</td>\n",
              "    </tr>\n",
              "    <tr>\n",
              "      <th>2</th>\n",
              "      <td>2</td>\n",
              "      <td>0</td>\n",
              "      <td>171.2</td>\n",
              "      <td>65.5</td>\n",
              "      <td>2823</td>\n",
              "      <td>152</td>\n",
              "      <td>5</td>\n",
              "      <td>154</td>\n",
              "      <td>19</td>\n",
              "      <td>26</td>\n",
              "    </tr>\n",
              "    <tr>\n",
              "      <th>3</th>\n",
              "      <td>1</td>\n",
              "      <td>0</td>\n",
              "      <td>176.6</td>\n",
              "      <td>66.2</td>\n",
              "      <td>2337</td>\n",
              "      <td>109</td>\n",
              "      <td>5</td>\n",
              "      <td>102</td>\n",
              "      <td>24</td>\n",
              "      <td>30</td>\n",
              "    </tr>\n",
              "    <tr>\n",
              "      <th>4</th>\n",
              "      <td>0</td>\n",
              "      <td>0</td>\n",
              "      <td>176.6</td>\n",
              "      <td>66.4</td>\n",
              "      <td>2824</td>\n",
              "      <td>136</td>\n",
              "      <td>5</td>\n",
              "      <td>115</td>\n",
              "      <td>18</td>\n",
              "      <td>22</td>\n",
              "    </tr>\n",
              "  </tbody>\n",
              "</table>\n",
              "</div>"
            ],
            "text/plain": [
              "   drivewheel  enginelocation  carlength  ...  horsepower  citympg  highwaympg\n",
              "0           2               0      168.8  ...         111       21          27\n",
              "1           2               0      168.8  ...         111       21          27\n",
              "2           2               0      171.2  ...         154       19          26\n",
              "3           1               0      176.6  ...         102       24          30\n",
              "4           0               0      176.6  ...         115       18          22\n",
              "\n",
              "[5 rows x 10 columns]"
            ]
          },
          "metadata": {
            "tags": []
          },
          "execution_count": 26
        }
      ]
    },
    {
      "cell_type": "code",
      "metadata": {
        "colab": {
          "base_uri": "https://localhost:8080/"
        },
        "id": "91RY5WX-JgfP",
        "outputId": "7bc65032-1081-4bb3-8630-220add6d4662"
      },
      "source": [
        "train_data.isna().sum()"
      ],
      "execution_count": 27,
      "outputs": [
        {
          "output_type": "execute_result",
          "data": {
            "text/plain": [
              "drivewheel        0\n",
              "enginelocation    0\n",
              "carlength         0\n",
              "carwidth          0\n",
              "curbweight        0\n",
              "enginesize        0\n",
              "fuelsystem        0\n",
              "horsepower        0\n",
              "citympg           0\n",
              "highwaympg        0\n",
              "dtype: int64"
            ]
          },
          "metadata": {
            "tags": []
          },
          "execution_count": 27
        }
      ]
    },
    {
      "cell_type": "code",
      "metadata": {
        "colab": {
          "base_uri": "https://localhost:8080/"
        },
        "id": "5YrBt1nZVTJ7",
        "outputId": "a0f7c499-4574-43fe-9840-3f7ea738abb3"
      },
      "source": [
        "test_data.isna().sum()"
      ],
      "execution_count": 28,
      "outputs": [
        {
          "output_type": "execute_result",
          "data": {
            "text/plain": [
              "drivewheel        0\n",
              "enginelocation    0\n",
              "carlength         0\n",
              "carwidth          0\n",
              "curbweight        0\n",
              "enginesize        0\n",
              "fuelsystem        0\n",
              "horsepower        0\n",
              "citympg           0\n",
              "highwaympg        0\n",
              "dtype: int64"
            ]
          },
          "metadata": {
            "tags": []
          },
          "execution_count": 28
        }
      ]
    },
    {
      "cell_type": "code",
      "metadata": {
        "colab": {
          "base_uri": "https://localhost:8080/"
        },
        "id": "CV9HRo8SVVFM",
        "outputId": "de89ea98-f10a-4b66-8228-be91b5f8fe1a"
      },
      "source": [
        "val_data.isna().sum()"
      ],
      "execution_count": 29,
      "outputs": [
        {
          "output_type": "execute_result",
          "data": {
            "text/plain": [
              "drivewheel        0\n",
              "enginelocation    0\n",
              "carlength         0\n",
              "carwidth          0\n",
              "curbweight        0\n",
              "enginesize        0\n",
              "fuelsystem        0\n",
              "horsepower        0\n",
              "citympg           0\n",
              "highwaympg        0\n",
              "dtype: int64"
            ]
          },
          "metadata": {
            "tags": []
          },
          "execution_count": 29
        }
      ]
    },
    {
      "cell_type": "code",
      "metadata": {
        "colab": {
          "base_uri": "https://localhost:8080/"
        },
        "id": "tc34gCPvM4pZ",
        "outputId": "3729c159-0d88-467c-d356-fc024bc8348a"
      },
      "source": [
        "train_data.iloc[1].shape"
      ],
      "execution_count": 30,
      "outputs": [
        {
          "output_type": "execute_result",
          "data": {
            "text/plain": [
              "(10,)"
            ]
          },
          "metadata": {
            "tags": []
          },
          "execution_count": 30
        }
      ]
    },
    {
      "cell_type": "code",
      "metadata": {
        "colab": {
          "base_uri": "https://localhost:8080/"
        },
        "id": "emM1uKf_faiQ",
        "outputId": "16264716-3fc3-4d7c-e66b-b5ee90e66375"
      },
      "source": [
        "model = models.Sequential()\n",
        "model.add(layers.Dense(20, kernel_regularizer=regularizers.l2(0.01),activation='relu',input_shape=(train_data.iloc[1].shape)))\n",
        "model.add(layers.Dense(10,activation='relu'))\n",
        "model.add(layers.Dense(5,kernel_regularizer=regularizers.l2(0.01),activation='relu'))\n",
        "model.add(layers.Dense(5,activation='relu'))\n",
        "model.add(layers.Dropout(0.3))\n",
        "model.add(layers.Dense(1))\n",
        "model.compile(optimizer='rmsprop', loss='mse', metrics=['mae'])\n",
        "his=model.fit(train_data,train_targets,epochs=150,batch_size=1,validation_data=(val_data,val_targets))"
      ],
      "execution_count": 167,
      "outputs": [
        {
          "output_type": "stream",
          "text": [
            "Epoch 1/150\n",
            "103/103 [==============================] - 1s 3ms/step - loss: 268555232.0000 - mae: 13442.0713 - val_loss: 169434320.0000 - val_mae: 12338.0674\n",
            "Epoch 2/150\n",
            "103/103 [==============================] - 0s 2ms/step - loss: 237013008.0000 - mae: 12283.7764 - val_loss: 124714808.0000 - val_mae: 10446.2598\n",
            "Epoch 3/150\n",
            "103/103 [==============================] - 0s 2ms/step - loss: 175648656.0000 - mae: 9603.0078 - val_loss: 63603960.0000 - val_mae: 7111.9463\n",
            "Epoch 4/150\n",
            "103/103 [==============================] - 0s 2ms/step - loss: 113943376.0000 - mae: 7059.4941 - val_loss: 20656224.0000 - val_mae: 3339.3420\n",
            "Epoch 5/150\n",
            "103/103 [==============================] - 0s 2ms/step - loss: 92014640.0000 - mae: 6703.5923 - val_loss: 9945370.0000 - val_mae: 2370.6792\n",
            "Epoch 6/150\n",
            "103/103 [==============================] - 0s 2ms/step - loss: 101570960.0000 - mae: 6854.7231 - val_loss: 8692871.0000 - val_mae: 2369.0674\n",
            "Epoch 7/150\n",
            "103/103 [==============================] - 0s 2ms/step - loss: 79674728.0000 - mae: 6298.2080 - val_loss: 8983349.0000 - val_mae: 2360.1357\n",
            "Epoch 8/150\n",
            "103/103 [==============================] - 0s 2ms/step - loss: 71816408.0000 - mae: 6130.6816 - val_loss: 8775938.0000 - val_mae: 2355.5942\n",
            "Epoch 9/150\n",
            "103/103 [==============================] - 0s 2ms/step - loss: 97387120.0000 - mae: 7135.4580 - val_loss: 8778898.0000 - val_mae: 2352.0027\n",
            "Epoch 10/150\n",
            "103/103 [==============================] - 0s 2ms/step - loss: 84891976.0000 - mae: 6441.7832 - val_loss: 8509379.0000 - val_mae: 2426.9832\n",
            "Epoch 11/150\n",
            "103/103 [==============================] - 0s 2ms/step - loss: 72508664.0000 - mae: 6428.7422 - val_loss: 9092022.0000 - val_mae: 2344.9890\n",
            "Epoch 12/150\n",
            "103/103 [==============================] - 0s 2ms/step - loss: 95608448.0000 - mae: 6689.9268 - val_loss: 9820366.0000 - val_mae: 2345.3176\n",
            "Epoch 13/150\n",
            "103/103 [==============================] - 0s 2ms/step - loss: 72189576.0000 - mae: 5560.6060 - val_loss: 8639029.0000 - val_mae: 2335.5005\n",
            "Epoch 14/150\n",
            "103/103 [==============================] - 0s 2ms/step - loss: 88033312.0000 - mae: 6632.1792 - val_loss: 8390786.0000 - val_mae: 2345.2195\n",
            "Epoch 15/150\n",
            "103/103 [==============================] - 0s 2ms/step - loss: 83966488.0000 - mae: 6599.9233 - val_loss: 8410033.0000 - val_mae: 2336.5945\n",
            "Epoch 16/150\n",
            "103/103 [==============================] - 0s 2ms/step - loss: 96051968.0000 - mae: 6789.9966 - val_loss: 9102044.0000 - val_mae: 2327.2219\n",
            "Epoch 17/150\n",
            "103/103 [==============================] - 0s 2ms/step - loss: 106076704.0000 - mae: 6942.6753 - val_loss: 8830011.0000 - val_mae: 2321.3879\n",
            "Epoch 18/150\n",
            "103/103 [==============================] - 0s 2ms/step - loss: 94585976.0000 - mae: 7027.4307 - val_loss: 8682954.0000 - val_mae: 2316.0544\n",
            "Epoch 19/150\n",
            "103/103 [==============================] - 0s 2ms/step - loss: 78620656.0000 - mae: 6081.5859 - val_loss: 8985603.0000 - val_mae: 2314.3923\n",
            "Epoch 20/150\n",
            "103/103 [==============================] - 0s 2ms/step - loss: 68956600.0000 - mae: 5722.9531 - val_loss: 8334021.0000 - val_mae: 2311.8672\n",
            "Epoch 21/150\n",
            "103/103 [==============================] - 0s 2ms/step - loss: 86573680.0000 - mae: 6867.9717 - val_loss: 9009109.0000 - val_mae: 2305.4114\n",
            "Epoch 22/150\n",
            "103/103 [==============================] - 0s 2ms/step - loss: 77428720.0000 - mae: 6629.7935 - val_loss: 8585159.0000 - val_mae: 2297.7375\n",
            "Epoch 23/150\n",
            "103/103 [==============================] - 0s 2ms/step - loss: 74253688.0000 - mae: 6353.5591 - val_loss: 8245647.5000 - val_mae: 2296.7346\n",
            "Epoch 24/150\n",
            "103/103 [==============================] - 0s 2ms/step - loss: 84161984.0000 - mae: 6513.9243 - val_loss: 8881605.0000 - val_mae: 2290.5410\n",
            "Epoch 25/150\n",
            "103/103 [==============================] - 0s 2ms/step - loss: 77110952.0000 - mae: 6488.8804 - val_loss: 9100954.0000 - val_mae: 2287.2664\n",
            "Epoch 26/150\n",
            "103/103 [==============================] - 0s 2ms/step - loss: 89880984.0000 - mae: 6755.1968 - val_loss: 9580926.0000 - val_mae: 2288.9343\n",
            "Epoch 27/150\n",
            "103/103 [==============================] - 0s 2ms/step - loss: 71081280.0000 - mae: 5697.4170 - val_loss: 9554070.0000 - val_mae: 2284.4319\n",
            "Epoch 28/150\n",
            "103/103 [==============================] - 0s 2ms/step - loss: 75410744.0000 - mae: 5906.6919 - val_loss: 8358871.0000 - val_mae: 2268.6968\n",
            "Epoch 29/150\n",
            "103/103 [==============================] - 0s 2ms/step - loss: 79385112.0000 - mae: 6330.9258 - val_loss: 9940261.0000 - val_mae: 2288.5200\n",
            "Epoch 30/150\n",
            "103/103 [==============================] - 0s 2ms/step - loss: 73877384.0000 - mae: 6278.4546 - val_loss: 9049194.0000 - val_mae: 2263.7517\n",
            "Epoch 31/150\n",
            "103/103 [==============================] - 0s 2ms/step - loss: 90841128.0000 - mae: 6799.3501 - val_loss: 8898498.0000 - val_mae: 2257.7476\n",
            "Epoch 32/150\n",
            "103/103 [==============================] - 0s 2ms/step - loss: 92256600.0000 - mae: 6914.4600 - val_loss: 8700029.0000 - val_mae: 2251.3970\n",
            "Epoch 33/150\n",
            "103/103 [==============================] - 0s 2ms/step - loss: 78149488.0000 - mae: 6408.7803 - val_loss: 9070659.0000 - val_mae: 2248.8723\n",
            "Epoch 34/150\n",
            "103/103 [==============================] - 0s 2ms/step - loss: 63695040.0000 - mae: 5959.8179 - val_loss: 7916154.5000 - val_mae: 2242.2639\n",
            "Epoch 35/150\n",
            "103/103 [==============================] - 0s 2ms/step - loss: 72624944.0000 - mae: 6419.1021 - val_loss: 7922482.0000 - val_mae: 2228.0730\n",
            "Epoch 36/150\n",
            "103/103 [==============================] - 0s 2ms/step - loss: 79998840.0000 - mae: 6591.0566 - val_loss: 7799091.5000 - val_mae: 2251.5928\n",
            "Epoch 37/150\n",
            "103/103 [==============================] - 0s 2ms/step - loss: 66225844.0000 - mae: 5701.2231 - val_loss: 8068294.5000 - val_mae: 2408.0430\n",
            "Epoch 38/150\n",
            "103/103 [==============================] - 0s 2ms/step - loss: 82773704.0000 - mae: 6911.2275 - val_loss: 9563272.0000 - val_mae: 2238.2063\n",
            "Epoch 39/150\n",
            "103/103 [==============================] - 0s 2ms/step - loss: 75738656.0000 - mae: 6010.0498 - val_loss: 8830052.0000 - val_mae: 2210.9192\n",
            "Epoch 40/150\n",
            "103/103 [==============================] - 0s 2ms/step - loss: 102593400.0000 - mae: 6968.1050 - val_loss: 7907482.5000 - val_mae: 2195.0012\n",
            "Epoch 41/150\n",
            "103/103 [==============================] - 0s 2ms/step - loss: 72270168.0000 - mae: 6567.8555 - val_loss: 7840947.5000 - val_mae: 2186.7639\n",
            "Epoch 42/150\n",
            "103/103 [==============================] - 0s 2ms/step - loss: 64481512.0000 - mae: 6069.0659 - val_loss: 7587844.0000 - val_mae: 2263.9006\n",
            "Epoch 43/150\n",
            "103/103 [==============================] - 0s 2ms/step - loss: 96835456.0000 - mae: 6642.4033 - val_loss: 10800442.0000 - val_mae: 2316.6667\n",
            "Epoch 44/150\n",
            "103/103 [==============================] - 0s 2ms/step - loss: 87196904.0000 - mae: 6349.3706 - val_loss: 7635134.5000 - val_mae: 2178.4060\n",
            "Epoch 45/150\n",
            "103/103 [==============================] - 0s 2ms/step - loss: 78218240.0000 - mae: 5856.9551 - val_loss: 7839336.0000 - val_mae: 2163.0515\n",
            "Epoch 46/150\n",
            "103/103 [==============================] - 0s 2ms/step - loss: 76257696.0000 - mae: 6034.5518 - val_loss: 7668083.5000 - val_mae: 2154.9712\n",
            "Epoch 47/150\n",
            "103/103 [==============================] - 0s 2ms/step - loss: 82806384.0000 - mae: 6062.7544 - val_loss: 7727845.5000 - val_mae: 2149.4336\n",
            "Epoch 48/150\n",
            "103/103 [==============================] - 0s 2ms/step - loss: 74858752.0000 - mae: 6042.7402 - val_loss: 8493103.0000 - val_mae: 2151.7383\n",
            "Epoch 49/150\n",
            "103/103 [==============================] - 0s 2ms/step - loss: 75084392.0000 - mae: 6092.9868 - val_loss: 7365500.5000 - val_mae: 2208.0945\n",
            "Epoch 50/150\n",
            "103/103 [==============================] - 0s 2ms/step - loss: 102133104.0000 - mae: 6572.6665 - val_loss: 7508988.5000 - val_mae: 2138.0217\n",
            "Epoch 51/150\n",
            "103/103 [==============================] - 0s 2ms/step - loss: 82979128.0000 - mae: 6212.6572 - val_loss: 9010214.0000 - val_mae: 2159.6177\n",
            "Epoch 52/150\n",
            "103/103 [==============================] - 0s 2ms/step - loss: 91992056.0000 - mae: 6942.0791 - val_loss: 8066274.5000 - val_mae: 2121.5261\n",
            "Epoch 53/150\n",
            "103/103 [==============================] - 0s 2ms/step - loss: 58000924.0000 - mae: 5981.1772 - val_loss: 7460543.0000 - val_mae: 2109.4453\n",
            "Epoch 54/150\n",
            "103/103 [==============================] - 0s 2ms/step - loss: 63928836.0000 - mae: 5673.6582 - val_loss: 7240494.0000 - val_mae: 2229.5437\n",
            "Epoch 55/150\n",
            "103/103 [==============================] - 0s 2ms/step - loss: 68567800.0000 - mae: 5876.1304 - val_loss: 7147729.0000 - val_mae: 2186.4275\n",
            "Epoch 56/150\n",
            "103/103 [==============================] - 0s 2ms/step - loss: 86769872.0000 - mae: 6481.8545 - val_loss: 8801734.0000 - val_mae: 2121.3342\n",
            "Epoch 57/150\n",
            "103/103 [==============================] - 0s 2ms/step - loss: 98919760.0000 - mae: 6554.4492 - val_loss: 8460451.0000 - val_mae: 2098.5315\n",
            "Epoch 58/150\n",
            "103/103 [==============================] - 0s 2ms/step - loss: 102978576.0000 - mae: 7013.5444 - val_loss: 9891489.0000 - val_mae: 2201.6086\n",
            "Epoch 59/150\n",
            "103/103 [==============================] - 0s 2ms/step - loss: 64893248.0000 - mae: 5994.0898 - val_loss: 7550344.0000 - val_mae: 2057.7571\n",
            "Epoch 60/150\n",
            "103/103 [==============================] - 0s 2ms/step - loss: 77722552.0000 - mae: 5901.3159 - val_loss: 7509884.5000 - val_mae: 2048.7100\n",
            "Epoch 61/150\n",
            "103/103 [==============================] - 0s 2ms/step - loss: 84981216.0000 - mae: 6834.8472 - val_loss: 6932575.0000 - val_mae: 2141.3271\n",
            "Epoch 62/150\n",
            "103/103 [==============================] - 0s 2ms/step - loss: 65865408.0000 - mae: 5856.4868 - val_loss: 7909605.0000 - val_mae: 2041.4272\n",
            "Epoch 63/150\n",
            "103/103 [==============================] - 0s 2ms/step - loss: 79382856.0000 - mae: 6519.5674 - val_loss: 6857034.5000 - val_mae: 2090.8350\n",
            "Epoch 64/150\n",
            "103/103 [==============================] - 0s 2ms/step - loss: 72076848.0000 - mae: 6113.3247 - val_loss: 6971474.0000 - val_mae: 2040.4750\n",
            "Epoch 65/150\n",
            "103/103 [==============================] - 0s 2ms/step - loss: 71708800.0000 - mae: 6107.8066 - val_loss: 6801834.5000 - val_mae: 2060.1917\n",
            "Epoch 66/150\n",
            "103/103 [==============================] - 0s 2ms/step - loss: 64926200.0000 - mae: 6116.5010 - val_loss: 6729675.0000 - val_mae: 2110.9719\n",
            "Epoch 67/150\n",
            "103/103 [==============================] - 0s 2ms/step - loss: 103489160.0000 - mae: 6747.7920 - val_loss: 7641328.5000 - val_mae: 1991.2825\n",
            "Epoch 68/150\n",
            "103/103 [==============================] - 0s 2ms/step - loss: 77262640.0000 - mae: 6099.7949 - val_loss: 7590893.0000 - val_mae: 1980.1697\n",
            "Epoch 69/150\n",
            "103/103 [==============================] - 0s 2ms/step - loss: 69267880.0000 - mae: 5979.5991 - val_loss: 7001209.5000 - val_mae: 1976.6246\n",
            "Epoch 70/150\n",
            "103/103 [==============================] - 0s 2ms/step - loss: 54957788.0000 - mae: 5201.7915 - val_loss: 6595473.5000 - val_mae: 2031.5615\n",
            "Epoch 71/150\n",
            "103/103 [==============================] - 0s 2ms/step - loss: 62838552.0000 - mae: 5767.6182 - val_loss: 7552005.0000 - val_mae: 1955.3541\n",
            "Epoch 72/150\n",
            "103/103 [==============================] - 0s 2ms/step - loss: 67823720.0000 - mae: 5764.2866 - val_loss: 6501639.5000 - val_mae: 2017.4059\n",
            "Epoch 73/150\n",
            "103/103 [==============================] - 0s 2ms/step - loss: 79549296.0000 - mae: 6057.7520 - val_loss: 6547644.5000 - val_mae: 1971.9663\n",
            "Epoch 74/150\n",
            "103/103 [==============================] - 0s 2ms/step - loss: 52188648.0000 - mae: 5363.2305 - val_loss: 6414922.0000 - val_mae: 2016.3875\n",
            "Epoch 75/150\n",
            "103/103 [==============================] - 0s 2ms/step - loss: 80026200.0000 - mae: 6132.5244 - val_loss: 6387288.0000 - val_mae: 2011.4666\n",
            "Epoch 76/150\n",
            "103/103 [==============================] - 0s 2ms/step - loss: 63330912.0000 - mae: 5580.9199 - val_loss: 6708253.5000 - val_mae: 1921.2906\n",
            "Epoch 77/150\n",
            "103/103 [==============================] - 0s 2ms/step - loss: 103142776.0000 - mae: 6400.2495 - val_loss: 8370466.5000 - val_mae: 2023.8295\n",
            "Epoch 78/150\n",
            "103/103 [==============================] - 0s 2ms/step - loss: 48657236.0000 - mae: 5200.3335 - val_loss: 8149035.5000 - val_mae: 1997.7588\n",
            "Epoch 79/150\n",
            "103/103 [==============================] - 0s 2ms/step - loss: 74819128.0000 - mae: 6171.7681 - val_loss: 6795498.5000 - val_mae: 1881.3193\n",
            "Epoch 80/150\n",
            "103/103 [==============================] - 0s 2ms/step - loss: 74736832.0000 - mae: 5841.9385 - val_loss: 6362019.5000 - val_mae: 1894.8368\n",
            "Epoch 81/150\n",
            "103/103 [==============================] - 0s 2ms/step - loss: 82973072.0000 - mae: 6480.1758 - val_loss: 6536412.0000 - val_mae: 1868.4706\n",
            "Epoch 82/150\n",
            "103/103 [==============================] - 0s 2ms/step - loss: 81755840.0000 - mae: 6130.2524 - val_loss: 6375567.0000 - val_mae: 1866.5472\n",
            "Epoch 83/150\n",
            "103/103 [==============================] - 0s 2ms/step - loss: 51515092.0000 - mae: 5450.6665 - val_loss: 6076350.5000 - val_mae: 1919.0809\n",
            "Epoch 84/150\n",
            "103/103 [==============================] - 0s 2ms/step - loss: 71929888.0000 - mae: 5683.8457 - val_loss: 6040349.0000 - val_mae: 1968.7622\n",
            "Epoch 85/150\n",
            "103/103 [==============================] - 0s 2ms/step - loss: 52467716.0000 - mae: 5563.6133 - val_loss: 6387932.0000 - val_mae: 1829.7396\n",
            "Epoch 86/150\n",
            "103/103 [==============================] - 0s 2ms/step - loss: 78508160.0000 - mae: 5915.5010 - val_loss: 8456286.0000 - val_mae: 2001.6975\n",
            "Epoch 87/150\n",
            "103/103 [==============================] - 0s 2ms/step - loss: 68915528.0000 - mae: 5618.6401 - val_loss: 7152540.0000 - val_mae: 2284.4006\n",
            "Epoch 88/150\n",
            "103/103 [==============================] - 0s 2ms/step - loss: 75665680.0000 - mae: 5952.7729 - val_loss: 5894448.5000 - val_mae: 1860.5194\n",
            "Epoch 89/150\n",
            "103/103 [==============================] - 0s 2ms/step - loss: 82319608.0000 - mae: 6049.1450 - val_loss: 5888833.0000 - val_mae: 1848.9333\n",
            "Epoch 90/150\n",
            "103/103 [==============================] - 0s 2ms/step - loss: 93973536.0000 - mae: 6747.9653 - val_loss: 5807029.0000 - val_mae: 1920.7832\n",
            "Epoch 91/150\n",
            "103/103 [==============================] - 0s 2ms/step - loss: 51423288.0000 - mae: 5321.2778 - val_loss: 6085281.0000 - val_mae: 1780.2069\n",
            "Epoch 92/150\n",
            "103/103 [==============================] - 0s 2ms/step - loss: 76005352.0000 - mae: 6316.6143 - val_loss: 5748460.0000 - val_mae: 1921.3159\n",
            "Epoch 93/150\n",
            "103/103 [==============================] - 0s 2ms/step - loss: 54504492.0000 - mae: 5406.8726 - val_loss: 5664257.0000 - val_mae: 1814.1438\n",
            "Epoch 94/150\n",
            "103/103 [==============================] - 0s 2ms/step - loss: 68618912.0000 - mae: 6045.3525 - val_loss: 5985552.0000 - val_mae: 1762.8978\n",
            "Epoch 95/150\n",
            "103/103 [==============================] - 0s 2ms/step - loss: 56471648.0000 - mae: 5497.7842 - val_loss: 5632950.0000 - val_mae: 1786.9355\n",
            "Epoch 96/150\n",
            "103/103 [==============================] - 0s 2ms/step - loss: 59146448.0000 - mae: 5527.7241 - val_loss: 5739699.5000 - val_mae: 1744.3016\n",
            "Epoch 97/150\n",
            "103/103 [==============================] - 0s 2ms/step - loss: 71453536.0000 - mae: 6342.5615 - val_loss: 7539319.0000 - val_mae: 1911.1012\n",
            "Epoch 98/150\n",
            "103/103 [==============================] - 0s 2ms/step - loss: 72062784.0000 - mae: 5697.5469 - val_loss: 6080147.0000 - val_mae: 2015.4429\n",
            "Epoch 99/150\n",
            "103/103 [==============================] - 0s 2ms/step - loss: 57002600.0000 - mae: 5718.4868 - val_loss: 6009589.0000 - val_mae: 1761.4744\n",
            "Epoch 100/150\n",
            "103/103 [==============================] - 0s 2ms/step - loss: 82378144.0000 - mae: 6257.4258 - val_loss: 5435487.0000 - val_mae: 1763.8812\n",
            "Epoch 101/150\n",
            "103/103 [==============================] - 0s 2ms/step - loss: 71636672.0000 - mae: 5240.8091 - val_loss: 5440878.0000 - val_mae: 1754.4545\n",
            "Epoch 102/150\n",
            "103/103 [==============================] - 0s 2ms/step - loss: 77639016.0000 - mae: 5781.9746 - val_loss: 5418409.0000 - val_mae: 1818.1031\n",
            "Epoch 103/150\n",
            "103/103 [==============================] - 0s 2ms/step - loss: 61289324.0000 - mae: 5510.1533 - val_loss: 5369106.0000 - val_mae: 1772.9291\n",
            "Epoch 104/150\n",
            "103/103 [==============================] - 0s 2ms/step - loss: 54788204.0000 - mae: 5443.9673 - val_loss: 5356804.0000 - val_mae: 1784.2684\n",
            "Epoch 105/150\n",
            "103/103 [==============================] - 0s 2ms/step - loss: 79892568.0000 - mae: 6114.3984 - val_loss: 5378447.5000 - val_mae: 1804.9453\n",
            "Epoch 106/150\n",
            "103/103 [==============================] - 0s 2ms/step - loss: 89748560.0000 - mae: 5819.1528 - val_loss: 5494410.0000 - val_mae: 1726.0006\n",
            "Epoch 107/150\n",
            "103/103 [==============================] - 0s 2ms/step - loss: 63974364.0000 - mae: 5312.1426 - val_loss: 5344576.5000 - val_mae: 1785.6074\n",
            "Epoch 108/150\n",
            "103/103 [==============================] - 0s 2ms/step - loss: 50859176.0000 - mae: 5503.5767 - val_loss: 5585883.0000 - val_mae: 1739.7838\n",
            "Epoch 109/150\n",
            "103/103 [==============================] - 0s 2ms/step - loss: 73895464.0000 - mae: 6124.8530 - val_loss: 5889752.5000 - val_mae: 1781.6862\n",
            "Epoch 110/150\n",
            "103/103 [==============================] - 0s 2ms/step - loss: 70349096.0000 - mae: 5573.4858 - val_loss: 5601493.5000 - val_mae: 1749.6855\n",
            "Epoch 111/150\n",
            "103/103 [==============================] - 0s 2ms/step - loss: 71752880.0000 - mae: 5729.8120 - val_loss: 5736054.0000 - val_mae: 1773.2056\n",
            "Epoch 112/150\n",
            "103/103 [==============================] - 0s 2ms/step - loss: 51475292.0000 - mae: 5247.6348 - val_loss: 5261044.0000 - val_mae: 1752.1833\n",
            "Epoch 113/150\n",
            "103/103 [==============================] - 0s 2ms/step - loss: 57845028.0000 - mae: 5551.0034 - val_loss: 5302986.5000 - val_mae: 1742.7546\n",
            "Epoch 114/150\n",
            "103/103 [==============================] - 0s 2ms/step - loss: 54234256.0000 - mae: 5417.0708 - val_loss: 6300442.5000 - val_mae: 1841.3429\n",
            "Epoch 115/150\n",
            "103/103 [==============================] - 0s 2ms/step - loss: 35566056.0000 - mae: 4445.7832 - val_loss: 6023051.5000 - val_mae: 1817.8153\n",
            "Epoch 116/150\n",
            "103/103 [==============================] - 0s 2ms/step - loss: 54078928.0000 - mae: 5238.8643 - val_loss: 5346936.5000 - val_mae: 1757.0447\n",
            "Epoch 117/150\n",
            "103/103 [==============================] - 0s 2ms/step - loss: 48358916.0000 - mae: 5320.3999 - val_loss: 10033053.0000 - val_mae: 2356.9883\n",
            "Epoch 118/150\n",
            "103/103 [==============================] - 0s 2ms/step - loss: 56311608.0000 - mae: 5476.6172 - val_loss: 5564441.0000 - val_mae: 1781.7979\n",
            "Epoch 119/150\n",
            "103/103 [==============================] - 0s 2ms/step - loss: 63828132.0000 - mae: 5317.7246 - val_loss: 5300831.0000 - val_mae: 1775.5829\n",
            "Epoch 120/150\n",
            "103/103 [==============================] - 0s 2ms/step - loss: 65338352.0000 - mae: 5463.7734 - val_loss: 5254876.0000 - val_mae: 1759.0963\n",
            "Epoch 121/150\n",
            "103/103 [==============================] - 0s 2ms/step - loss: 68035272.0000 - mae: 5613.4858 - val_loss: 6214847.5000 - val_mae: 1846.3518\n",
            "Epoch 122/150\n",
            "103/103 [==============================] - 0s 2ms/step - loss: 79193096.0000 - mae: 5520.4927 - val_loss: 5247641.5000 - val_mae: 1756.6599\n",
            "Epoch 123/150\n",
            "103/103 [==============================] - 0s 2ms/step - loss: 44012668.0000 - mae: 4485.0405 - val_loss: 7845316.0000 - val_mae: 2068.3137\n",
            "Epoch 124/150\n",
            "103/103 [==============================] - 0s 2ms/step - loss: 47249188.0000 - mae: 4852.4438 - val_loss: 7919108.0000 - val_mae: 2082.4434\n",
            "Epoch 125/150\n",
            "103/103 [==============================] - 0s 2ms/step - loss: 61074780.0000 - mae: 5317.7383 - val_loss: 5578257.5000 - val_mae: 1796.2119\n",
            "Epoch 126/150\n",
            "103/103 [==============================] - 0s 2ms/step - loss: 53578396.0000 - mae: 5266.7466 - val_loss: 5312323.0000 - val_mae: 1778.3107\n",
            "Epoch 127/150\n",
            "103/103 [==============================] - 0s 2ms/step - loss: 47447184.0000 - mae: 4875.8906 - val_loss: 5261443.0000 - val_mae: 1768.1984\n",
            "Epoch 128/150\n",
            "103/103 [==============================] - 0s 2ms/step - loss: 67354512.0000 - mae: 5467.8384 - val_loss: 6135223.5000 - val_mae: 1846.0851\n",
            "Epoch 129/150\n",
            "103/103 [==============================] - 0s 2ms/step - loss: 76112184.0000 - mae: 5712.8594 - val_loss: 5393242.0000 - val_mae: 1791.7712\n",
            "Epoch 130/150\n",
            "103/103 [==============================] - 0s 2ms/step - loss: 70572512.0000 - mae: 5414.1943 - val_loss: 5652588.5000 - val_mae: 1807.4026\n",
            "Epoch 131/150\n",
            "103/103 [==============================] - 0s 2ms/step - loss: 77762320.0000 - mae: 5626.5547 - val_loss: 6562067.0000 - val_mae: 2028.4719\n",
            "Epoch 132/150\n",
            "103/103 [==============================] - 0s 2ms/step - loss: 72264512.0000 - mae: 5994.1177 - val_loss: 5288129.0000 - val_mae: 1778.7955\n",
            "Epoch 133/150\n",
            "103/103 [==============================] - 0s 2ms/step - loss: 51108796.0000 - mae: 5062.8555 - val_loss: 5900732.5000 - val_mae: 1829.6672\n",
            "Epoch 134/150\n",
            "103/103 [==============================] - 0s 2ms/step - loss: 44436064.0000 - mae: 4986.0391 - val_loss: 5509929.5000 - val_mae: 1804.9941\n",
            "Epoch 135/150\n",
            "103/103 [==============================] - 0s 2ms/step - loss: 64667688.0000 - mae: 5687.6299 - val_loss: 5321572.0000 - val_mae: 1775.9557\n",
            "Epoch 136/150\n",
            "103/103 [==============================] - 0s 2ms/step - loss: 53962800.0000 - mae: 5364.0498 - val_loss: 5311128.0000 - val_mae: 1775.4875\n",
            "Epoch 137/150\n",
            "103/103 [==============================] - 0s 2ms/step - loss: 60325656.0000 - mae: 5484.6104 - val_loss: 6284190.5000 - val_mae: 1968.4856\n",
            "Epoch 138/150\n",
            "103/103 [==============================] - 0s 2ms/step - loss: 79873120.0000 - mae: 5890.9678 - val_loss: 5381845.5000 - val_mae: 1783.1196\n",
            "Epoch 139/150\n",
            "103/103 [==============================] - 0s 2ms/step - loss: 56196648.0000 - mae: 5485.8125 - val_loss: 5325513.0000 - val_mae: 1797.0751\n",
            "Epoch 140/150\n",
            "103/103 [==============================] - 0s 2ms/step - loss: 52475660.0000 - mae: 4877.0288 - val_loss: 6305919.0000 - val_mae: 1892.7262\n",
            "Epoch 141/150\n",
            "103/103 [==============================] - 0s 2ms/step - loss: 58101604.0000 - mae: 5274.8022 - val_loss: 7767078.5000 - val_mae: 2145.8748\n",
            "Epoch 142/150\n",
            "103/103 [==============================] - 0s 2ms/step - loss: 60856200.0000 - mae: 5562.5234 - val_loss: 5798449.0000 - val_mae: 1849.1729\n",
            "Epoch 143/150\n",
            "103/103 [==============================] - 0s 2ms/step - loss: 61054456.0000 - mae: 5593.1655 - val_loss: 5399064.0000 - val_mae: 1817.2253\n",
            "Epoch 144/150\n",
            "103/103 [==============================] - 0s 2ms/step - loss: 67102392.0000 - mae: 5500.4951 - val_loss: 7301541.5000 - val_mae: 2088.1389\n",
            "Epoch 145/150\n",
            "103/103 [==============================] - 0s 2ms/step - loss: 62850744.0000 - mae: 5197.8857 - val_loss: 5435869.0000 - val_mae: 1821.1945\n",
            "Epoch 146/150\n",
            "103/103 [==============================] - 0s 2ms/step - loss: 67730448.0000 - mae: 6070.2891 - val_loss: 5357226.0000 - val_mae: 1793.7019\n",
            "Epoch 147/150\n",
            "103/103 [==============================] - 0s 2ms/step - loss: 52646884.0000 - mae: 5120.0796 - val_loss: 6027720.0000 - val_mae: 1862.6819\n",
            "Epoch 148/150\n",
            "103/103 [==============================] - 0s 2ms/step - loss: 73171608.0000 - mae: 5319.5420 - val_loss: 7288122.5000 - val_mae: 2070.9138\n",
            "Epoch 149/150\n",
            "103/103 [==============================] - 0s 2ms/step - loss: 84722920.0000 - mae: 5905.6353 - val_loss: 5648602.5000 - val_mae: 1831.2474\n",
            "Epoch 150/150\n",
            "103/103 [==============================] - 0s 2ms/step - loss: 47082552.0000 - mae: 4835.6084 - val_loss: 5368391.0000 - val_mae: 1785.8602\n"
          ],
          "name": "stdout"
        }
      ]
    },
    {
      "cell_type": "code",
      "metadata": {
        "colab": {
          "base_uri": "https://localhost:8080/"
        },
        "id": "cQNlKnMWltHB",
        "outputId": "8ca3af0a-85c1-4620-f575-fe29b847e3f7"
      },
      "source": [
        "model.evaluate(test_data,test_targets)"
      ],
      "execution_count": 168,
      "outputs": [
        {
          "output_type": "stream",
          "text": [
            "2/2 [==============================] - 0s 7ms/step - loss: 18066286.0000 - mae: 2375.7920\n"
          ],
          "name": "stdout"
        },
        {
          "output_type": "execute_result",
          "data": {
            "text/plain": [
              "[18066286.0, 2375.7919921875]"
            ]
          },
          "metadata": {
            "tags": []
          },
          "execution_count": 168
        }
      ]
    },
    {
      "cell_type": "code",
      "metadata": {
        "colab": {
          "base_uri": "https://localhost:8080/"
        },
        "id": "s54ePEaB-4aQ",
        "outputId": "1da365f8-dc7d-4f68-e4a6-e0fe503fa3f8"
      },
      "source": [
        "\n",
        "model.summary()"
      ],
      "execution_count": 169,
      "outputs": [
        {
          "output_type": "stream",
          "text": [
            "Model: \"sequential_4\"\n",
            "_________________________________________________________________\n",
            "Layer (type)                 Output Shape              Param #   \n",
            "=================================================================\n",
            "dense_19 (Dense)             (None, 20)                220       \n",
            "_________________________________________________________________\n",
            "dense_20 (Dense)             (None, 10)                210       \n",
            "_________________________________________________________________\n",
            "dense_21 (Dense)             (None, 5)                 55        \n",
            "_________________________________________________________________\n",
            "dense_22 (Dense)             (None, 5)                 30        \n",
            "_________________________________________________________________\n",
            "dropout_4 (Dropout)          (None, 5)                 0         \n",
            "_________________________________________________________________\n",
            "dense_23 (Dense)             (None, 1)                 6         \n",
            "=================================================================\n",
            "Total params: 521\n",
            "Trainable params: 521\n",
            "Non-trainable params: 0\n",
            "_________________________________________________________________\n"
          ],
          "name": "stdout"
        }
      ]
    },
    {
      "cell_type": "code",
      "metadata": {
        "colab": {
          "base_uri": "https://localhost:8080/"
        },
        "id": "u4x2u3WzB1CT",
        "outputId": "62bbcb39-d6e5-426b-ae38-673f26820b79"
      },
      "source": [
        "his.history.keys()"
      ],
      "execution_count": 170,
      "outputs": [
        {
          "output_type": "execute_result",
          "data": {
            "text/plain": [
              "dict_keys(['loss', 'mae', 'val_loss', 'val_mae'])"
            ]
          },
          "metadata": {
            "tags": []
          },
          "execution_count": 170
        }
      ]
    },
    {
      "cell_type": "code",
      "metadata": {
        "colab": {
          "base_uri": "https://localhost:8080/",
          "height": 282
        },
        "id": "tlyXyC3IFw2M",
        "outputId": "b4ba08f1-1cbd-4a73-94e6-2247b7691e95"
      },
      "source": [
        "import matplotlib.pyplot as plt\n",
        "\n",
        "valmae=his.history['val_mae']\n",
        "epochs=range(150)\n",
        "plt.plot(epochs,valmae,'b',label='val mae')\n"
      ],
      "execution_count": 171,
      "outputs": [
        {
          "output_type": "execute_result",
          "data": {
            "text/plain": [
              "[<matplotlib.lines.Line2D at 0x7f877ab864d0>]"
            ]
          },
          "metadata": {
            "tags": []
          },
          "execution_count": 171
        },
        {
          "output_type": "display_data",
          "data": {
            "image/png": "[encoded data removed]",
            "text/plain": [
              "<Figure size 432x288 with 1 Axes>"
            ]
          },
          "metadata": {
            "tags": [],
            "needs_background": "light"
          }
        }
      ]
    },
    {
      "cell_type": "code",
      "metadata": {
        "id": "WDwI4Oe9GgoM",
        "colab": {
          "base_uri": "https://localhost:8080/"
        },
        "outputId": "3fa5fb2e-2565-4a30-f523-c05fadc786f8"
      },
      "source": [
        "pred=model.predict(test_data)\n",
        "pred[3]"
      ],
      "execution_count": 172,
      "outputs": [
        {
          "output_type": "execute_result",
          "data": {
            "text/plain": [
              "array([19401.285], dtype=float32)"
            ]
          },
          "metadata": {
            "tags": []
          },
          "execution_count": 172
        }
      ]
    },
    {
      "cell_type": "code",
      "metadata": {
        "colab": {
          "base_uri": "https://localhost:8080/"
        },
        "id": "qfn1ijWVU6S5",
        "outputId": "830ef87d-5cd3-4d45-f320-a2198a0019d8"
      },
      "source": [
        "test_targets[3]"
      ],
      "execution_count": 173,
      "outputs": [
        {
          "output_type": "execute_result",
          "data": {
            "text/plain": [
              "18399.0"
            ]
          },
          "metadata": {
            "tags": []
          },
          "execution_count": 173
        }
      ]
    },
    {
      "cell_type": "code",
      "metadata": {
        "id": "jyT7w1AlU9N4",
        "colab": {
          "base_uri": "https://localhost:8080/"
        },
        "outputId": "fc0f4390-7b4d-4541-c28f-41b371feef79"
      },
      "source": [
        "model.save('car_price_model1')"
      ],
      "execution_count": 174,
      "outputs": [
        {
          "output_type": "stream",
          "text": [
            "INFO:tensorflow:Assets written to: car_price_model1/assets\n"
          ],
          "name": "stdout"
        }
      ]
    },
    {
      "cell_type": "code",
      "metadata": {
        "id": "V8iKRRWVKA4E"
      },
      "source": [
        "model=load_model('/content/content/car_price_model1')"
      ],
      "execution_count": 4,
      "outputs": []
    },
    {
      "cell_type": "code",
      "metadata": {
        "colab": {
          "base_uri": "https://localhost:8080/"
        },
        "id": "aHwES6kqKGtv",
        "outputId": "23b233ad-2e8a-4629-d47c-ac33eba86c65"
      },
      "source": [
        "a=model.predict(test_data)\n",
        "a[3]"
      ],
      "execution_count": 31,
      "outputs": [
        {
          "output_type": "execute_result",
          "data": {
            "text/plain": [
              "array([19401.285], dtype=float32)"
            ]
          },
          "metadata": {
            "tags": []
          },
          "execution_count": 31
        }
      ]
    }
  ]
}